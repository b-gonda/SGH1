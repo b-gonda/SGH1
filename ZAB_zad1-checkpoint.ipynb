{
 "cells": [
  {
   "cell_type": "code",
   "execution_count": 3,
   "id": "207c846f",
   "metadata": {},
   "outputs": [],
   "source": [
    "import pandas as pd\n",
    "\n",
    "# wczytanie danych i krótki opis\n",
    "url = \"https://raw.githubusercontent.com/adam-54/class/main/common/beeps_c.csv\"\n",
    "df = pd.read_csv(url, encoding = 'ISO-8859-1', low_memory=False)"
   ]
  },
  {
   "cell_type": "code",
   "execution_count": 4,
   "id": "559e27ed",
   "metadata": {},
   "outputs": [],
   "source": [
    "df = df[df['country'] == 'Portugal']"
   ]
  },
  {
   "cell_type": "code",
   "execution_count": 5,
   "id": "dc7d02fb",
   "metadata": {},
   "outputs": [],
   "source": [
    "#Year Establishment Began Operations\n",
    "zmienna_celu = 'b5'\n",
    "\n",
    "# Does Establishment Have An Internationally-Recognized Quality Certification?\n",
    "zmienna_ob_1 = 'b8'\n",
    "\n",
    "#How Many Years of Experience Working In This Sector Does The Top Manager Have?\n",
    "zmienna_ob_2 = 'b7'"
   ]
  },
  {
   "cell_type": "code",
   "execution_count": 6,
   "id": "74592763",
   "metadata": {},
   "outputs": [
    {
     "name": "stdout",
     "output_type": "stream",
     "text": [
      "          id   country      b5   b8    b7\n",
      "113       12  Portugal  1994.0  1.0  45.0\n",
      "943      106  Portugal  2014.0  2.0  16.0\n",
      "1122     127  Portugal  2008.0  2.0  15.0\n",
      "1564     174  Portugal  2010.0  2.0  10.0\n",
      "1593     178  Portugal  2008.0  1.0   4.0\n",
      "...      ...       ...     ...  ...   ...\n",
      "14455  13800  Portugal  2007.0  2.0  45.0\n",
      "14457  13805  Portugal  2006.0  2.0  15.0\n",
      "14459  13809  Portugal  2007.0  2.0  12.0\n",
      "14461  13814  Portugal  1989.0  2.0  30.0\n",
      "14464  13815  Portugal  2007.0  2.0  20.0\n",
      "\n",
      "[1062 rows x 5 columns]\n"
     ]
    }
   ],
   "source": [
    "df = df[['id', 'country', zmienna_celu, zmienna_ob_1, zmienna_ob_2]]\n",
    "print(df)"
   ]
  },
  {
   "cell_type": "code",
   "execution_count": null,
   "id": "661843de",
   "metadata": {},
   "outputs": [],
   "source": []
  }
 ],
 "metadata": {
  "kernelspec": {
   "display_name": "Python 3",
   "language": "python",
   "name": "python3"
  },
  "language_info": {
   "codemirror_mode": {
    "name": "ipython",
    "version": 3
   },
   "file_extension": ".py",
   "mimetype": "text/x-python",
   "name": "python",
   "nbconvert_exporter": "python",
   "pygments_lexer": "ipython3",
   "version": "3.8.8"
  }
 },
 "nbformat": 4,
 "nbformat_minor": 5
}
